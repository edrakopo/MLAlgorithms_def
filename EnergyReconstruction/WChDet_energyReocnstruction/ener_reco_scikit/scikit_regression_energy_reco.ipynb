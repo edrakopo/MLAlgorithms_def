{
 "cells": [
  {
   "cell_type": "code",
   "execution_count": 3,
   "metadata": {
    "collapsed": true
   },
   "outputs": [],
   "source": [
    "import numpy as np\n",
    "import matplotlib.pyplot as plt\n",
    "plt.rc('font', family='serif', size=80)\n",
    "import pylab\n",
    "%matplotlib inline\n",
    "pylab.rcParams['figure.figsize'] = 8, 8"
   ]
  },
  {
   "cell_type": "code",
   "execution_count": 4,
   "metadata": {
    "collapsed": false
   },
   "outputs": [
    {
     "ename": "ImportError",
     "evalue": "No module named 'ROOT'",
     "output_type": "error",
     "traceback": [
      "\u001b[0;31m---------------------------------------------------------------------------\u001b[0m",
      "\u001b[0;31mImportError\u001b[0m                               Traceback (most recent call last)",
      "\u001b[0;32m<ipython-input-4-b7bf6226946a>\u001b[0m in \u001b[0;36m<module>\u001b[0;34m()\u001b[0m\n\u001b[0;32m----> 1\u001b[0;31m \u001b[0;32mimport\u001b[0m \u001b[0mROOT\u001b[0m\u001b[0;34m\u001b[0m\u001b[0m\n\u001b[0m\u001b[1;32m      2\u001b[0m \u001b[0;32mfrom\u001b[0m \u001b[0mroot_numpy\u001b[0m \u001b[0;32mimport\u001b[0m \u001b[0mroot2array\u001b[0m\u001b[0;34m,\u001b[0m \u001b[0mtree2array\u001b[0m\u001b[0;34m,\u001b[0m \u001b[0mfill_hist\u001b[0m\u001b[0;34m\u001b[0m\u001b[0m\n\u001b[1;32m      3\u001b[0m \u001b[0;32mfrom\u001b[0m \u001b[0msklearn\u001b[0m \u001b[0;32mimport\u001b[0m \u001b[0mlinear_model\u001b[0m\u001b[0;34m,\u001b[0m \u001b[0mensemble\u001b[0m\u001b[0;34m\u001b[0m\u001b[0m\n",
      "\u001b[0;31mImportError\u001b[0m: No module named 'ROOT'"
     ]
    }
   ],
   "source": [
    "import ROOT\n",
    "from root_numpy import root2array, tree2array, fill_hist\n",
    "from sklearn import linear_model, ensemble"
   ]
  },
  {
   "cell_type": "code",
   "execution_count": null,
   "metadata": {
    "collapsed": false
   },
   "outputs": [],
   "source": [
    "#rfile = ROOT.TFile('/Disk/ds-sopa-group/PPE/titus/ts-WChRecoSandBox/scripts/editing_ene/outputs/nu_numu_1000_1039_CCQE_12in_energy_studies_recoquant_tree.root')\n",
    "rfile = ROOT.TFile('/Users/edrakopo/work/ener_reco_scikit/nu_numu_1000_1039_CCQE_12in_energy_studies_recoquant_tree_NEWlookupsB_for_training.root')\n",
    "intree = rfile.Get('nu_eneNEW')"
   ]
  },
  {
   "cell_type": "code",
   "execution_count": null,
   "metadata": {
    "collapsed": false
   },
   "outputs": [],
   "source": [
    "arr=tree2array(intree)"
   ]
  },
  {
   "cell_type": "code",
   "execution_count": null,
   "metadata": {
    "collapsed": false
   },
   "outputs": [],
   "source": [
    "arr2=arr[['total_hits2','total_ring_PEs2','recoDWallR2','recoDWallZ2','hits_pot_length2','lambda_max_2']]#,'hits_pot_length2']]\n",
    "arr2_n=arr2.view(arr2.dtype[0]).reshape(arr2.shape + (-1,))\n",
    "arr3=arr['trueKE']"
   ]
  },
  {
   "cell_type": "code",
   "execution_count": null,
   "metadata": {
    "collapsed": false
   },
   "outputs": [],
   "source": [
    "clf = linear_model.SGDRegressor()\n",
    "clf.fit(arr2_n,arr3)\n",
    "clf"
   ]
  },
  {
   "cell_type": "code",
   "execution_count": null,
   "metadata": {
    "collapsed": false
   },
   "outputs": [],
   "source": [
    "plt.scatter(arr3,clf.predict(arr2_n)-arr3)\n",
    "plt.xlabel(\"trueKE [MeV]\")\n",
    "plt.ylabel(\"recoKE - trueKE [MeV]\")"
   ]
  },
  {
   "cell_type": "code",
   "execution_count": null,
   "metadata": {
    "collapsed": false
   },
   "outputs": [],
   "source": [
    "chain = ROOT.TChain('nu_eneNEW')\n",
    "for i in range(1040,1099):\n",
    "    chain.Add('/Disk/ds-sopa-group/PPE/titus/ts-WChRecoSandBox/scripts/editing_ene/outputs/nu_numu_'+str(i)+'_CCQE_12in_energy_studies_recoquant_tree_NEWlookups.root')\n",
    "test_data = tree2array(chain)"
   ]
  },
  {
   "cell_type": "code",
   "execution_count": null,
   "metadata": {
    "collapsed": true
   },
   "outputs": [],
   "source": [
    "test_data_reduced = test_data[['total_hits2','total_ring_PEs2','recoDWallR2','recoDWallZ2','hits_pot_length2','lambda_max_2']]#,'hits_pot_length2']]\n",
    "test_data_reduced_n = test_data_reduced.view(test_data_reduced.dtype[0]).reshape(test_data_reduced.shape + (-1,))\n",
    "test_data_trueKE = test_data['trueKE']"
   ]
  },
  {
   "cell_type": "code",
   "execution_count": null,
   "metadata": {
    "collapsed": false
   },
   "outputs": [],
   "source": [
    "plt.scatter(test_data_trueKE,clf.predict(test_data_reduced_n)-test_data_trueKE)\n",
    "plt.ylim((-5000,3000))\n",
    "plt.xlabel(\"trueKE [MeV]\")\n",
    "plt.ylabel(\"recoKE - trueKE [MeV]\")"
   ]
  },
  {
   "cell_type": "code",
   "execution_count": null,
   "metadata": {
    "collapsed": false
   },
   "outputs": [],
   "source": [
    "plt.scatter(test_data_trueKE,(clf.predict(test_data_reduced_n)-test_data_trueKE)/test_data_trueKE)\n",
    "plt.ylim((0,1))\n",
    "plt.xlabel(\"trueKE [MeV]\")\n",
    "plt.ylabel(\"DeltaE/E\")\n",
    "res_twod_SGD = np.dstack((test_data_trueKE, (clf.predict(test_data_reduced_n)-test_data_trueKE)/test_data_trueKE))"
   ]
  },
  {
   "cell_type": "code",
   "execution_count": null,
   "metadata": {
    "collapsed": false
   },
   "outputs": [],
   "source": [
    "hist_SGD = ROOT.TH2D('name', 'title', 100, 0, 5000, 100, -1, 10)\n",
    "fill_hist(hist_SGD, res_twod_SGD[0])\n",
    "hist_SGD.Draw()\n",
    "ROOT.gPad.Draw()"
   ]
  },
  {
   "cell_type": "code",
   "execution_count": null,
   "metadata": {
    "collapsed": false
   },
   "outputs": [],
   "source": [
    "profile_SGD = hist_SGD.ProfileX()\n",
    "profile_SGD.SetLineColor(ROOT.kBlue)\n",
    "profile_SGD.Draw()\n",
    "ROOT.gPad.Draw()"
   ]
  },
  {
   "cell_type": "code",
   "execution_count": null,
   "metadata": {
    "collapsed": false
   },
   "outputs": [],
   "source": [
    "params = {'n_estimators': 1000, 'max_depth': 10, 'min_samples_split': 1,\n",
    "          'learning_rate': 0.01, 'loss': 'lad'}\n",
    "net = ensemble.GradientBoostingRegressor(**params)\n",
    "net.fit(arr2_n,arr3)\n",
    "net"
   ]
  },
  {
   "cell_type": "code",
   "execution_count": null,
   "metadata": {
    "collapsed": false
   },
   "outputs": [],
   "source": [
    "plt.scatter(arr3,net.predict(arr2_n)-arr3,c='r')\n",
    "plt.xlabel(\"trueKE [MeV]\")\n",
    "plt.ylabel(\"recoKE - trueKE [MeV]\")\n",
    "plt.ylim(-50,50)"
   ]
  },
  {
   "cell_type": "code",
   "execution_count": null,
   "metadata": {
    "collapsed": false
   },
   "outputs": [],
   "source": [
    "plt.scatter(test_data_trueKE,(net.predict(test_data_reduced_n)-test_data_trueKE), c='r')\n",
    "plt.xlabel(\"trueKE [MeV]\")\n",
    "plt.ylabel(\"recoKE - trueKE [MeV]\")\n",
    "matrix = np.dstack((test_data_trueKE, (net.predict(test_data_reduced_n)-test_data_trueKE)))"
   ]
  },
  {
   "cell_type": "code",
   "execution_count": null,
   "metadata": {
    "collapsed": false
   },
   "outputs": [],
   "source": [
    "plt.scatter(test_data_trueKE,((net.predict(test_data_reduced_n)-test_data_trueKE)/test_data_trueKE),c='r')\n",
    "plt.xlabel(\"trueKE [MeV]\")\n",
    "plt.ylabel(\"DeltaE/E\")\n",
    "plt.ylim(-2,2)\n",
    "twod_GBR_abs = np.dstack((test_data_trueKE, np.abs(net.predict(test_data_reduced_n)-test_data_trueKE)/test_data_trueKE))"
   ]
  },
  {
   "cell_type": "code",
   "execution_count": null,
   "metadata": {
    "collapsed": false
   },
   "outputs": [],
   "source": [
    "hist_GBR_abs = ROOT.TH2D('name_GBR_abs', 'title', 100, 0, 2000, 100, -1, 10)\n",
    "fill_hist(hist_GBR_abs, twod_GBR_abs[0])\n",
    "canvas = ROOT.TCanvas()\n",
    "hist_GBR_abs.Draw()\n",
    "hist_GBR_abs.GetXaxis().SetTitle('true KE [MeV]')\n",
    "hist_GBR_abs.GetYaxis().SetTitle('abs(#Delta E)/E')\n",
    "canvas.Draw()"
   ]
  },
  {
   "cell_type": "code",
   "execution_count": null,
   "metadata": {
    "collapsed": false
   },
   "outputs": [],
   "source": [
    "profile_GBR_abs = hist_GBR_abs.ProfileX()\n",
    "profile_GBR_abs.SetLineColor(ROOT.kBlue+2)\n",
    "profile_GBR_abs.SetMarkerColor(ROOT.kBlue+2)\n",
    "profile_GBR_abs.SetLineWidth(1)\n",
    "canvas_prof = ROOT.TCanvas()\n",
    "profile_GBR_abs.Draw()\n",
    "profile_GBR_abs.SetMinimum(0)\n",
    "profile_GBR_abs.SetMaximum(1)\n",
    "profile_GBR_abs.GetXaxis().SetTitle('true KE [MeV]')\n",
    "profile_GBR_abs.GetYaxis().SetTitle('abs(#Delta E)/E')\n",
    "canvas_prof.Draw()"
   ]
  },
  {
   "cell_type": "code",
   "execution_count": null,
   "metadata": {
    "collapsed": false
   },
   "outputs": [],
   "source": [
    "hist_trueKE = ROOT.TH1D('trueKE', 'title', 100, 0, 5000)\n",
    "hist_recoKE = ROOT.TH1D('recoKE', 'title', 100, 0, 5000)\n",
    "hist_recoKE_GBR = ROOT.TH1D('recoKE_GBR', 'title', 100, 0, 5000)\n",
    "hist_trueKE.SetLineColor(ROOT.kBlack)\n",
    "hist_recoKE.SetLineColor(ROOT.kRed)\n",
    "hist_recoKE_GBR.SetLineColor(ROOT.kBlue+2)\n",
    "hist_trueKE.SetLineWidth(2)\n",
    "hist_recoKE_GBR.SetLineWidth(2)\n",
    "fill_hist(hist_trueKE, test_data_trueKE)\n",
    "fill_hist(hist_recoKE, clf.predict(test_data_reduced_n))\n",
    "fill_hist(hist_recoKE_GBR, net.predict(test_data_reduced_n))\n",
    "hist_trueKE.Draw()\n",
    "#hist_recoKE.Draw(\"same\")\n",
    "hist_recoKE_GBR.Draw(\"same\")\n",
    "hist_trueKE.GetXaxis().SetTitle('true or reco KE [MeV]')\n",
    "hist_trueKE.GetYaxis().SetTitle('Events')\n",
    "ROOT.gPad.SetLogy()\n",
    "ROOT.gPad.Draw()"
   ]
  },
  {
   "cell_type": "code",
   "execution_count": null,
   "metadata": {
    "collapsed": false
   },
   "outputs": [],
   "source": [
    "hist_trueKE_zoom = ROOT.TH1D('trueKE_zoom', 'title', 100, 0, 2000)\n",
    "hist_recoKE_zoom = ROOT.TH1D('recoKE_zoom', 'title', 100, 0, 2000)\n",
    "hist_recoKE_GBR_zoom = ROOT.TH1D('recoKE_GBR_zoom', 'title', 100, 0, 2000)\n",
    "hist_trueKE_zoom.SetLineColor(ROOT.kBlack)\n",
    "hist_recoKE_zoom.SetLineColor(ROOT.kRed)\n",
    "hist_recoKE_GBR_zoom.SetLineColor(ROOT.kBlue+2)\n",
    "hist_trueKE_zoom.SetLineWidth(2)\n",
    "hist_recoKE_GBR_zoom.SetLineWidth(2)\n",
    "fill_hist(hist_trueKE_zoom, test_data_trueKE)\n",
    "fill_hist(hist_recoKE_zoom, clf.predict(test_data_reduced_n))\n",
    "fill_hist(hist_recoKE_GBR_zoom, net.predict(test_data_reduced_n))\n",
    "hist_trueKE_zoom.Draw()\n",
    "#hist_recoKE_zoom.Draw(\"same\")\n",
    "hist_recoKE_GBR_zoom.Draw(\"same\")\n",
    "hist_trueKE_zoom.GetXaxis().SetTitle('true or reco KE [MeV]')\n",
    "hist_trueKE_zoom.GetYaxis().SetTitle('Events')\n",
    "ROOT.gPad.SetLogy()\n",
    "ROOT.gPad.Draw()"
   ]
  },
  {
   "cell_type": "code",
   "execution_count": null,
   "metadata": {
    "collapsed": true
   },
   "outputs": [],
   "source": []
  }
 ],
 "metadata": {
  "anaconda-cloud": {},
  "kernelspec": {
   "display_name": "Python [conda root]",
   "language": "python",
   "name": "conda-root-py"
  },
  "language_info": {
   "codemirror_mode": {
    "name": "ipython",
    "version": 3
   },
   "file_extension": ".py",
   "mimetype": "text/x-python",
   "name": "python",
   "nbconvert_exporter": "python",
   "pygments_lexer": "ipython3",
   "version": "3.5.2"
  }
 },
 "nbformat": 4,
 "nbformat_minor": 1
}
